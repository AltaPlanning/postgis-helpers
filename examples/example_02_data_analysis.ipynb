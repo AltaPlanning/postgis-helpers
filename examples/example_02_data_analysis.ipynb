{
 "cells": [
  {
   "cell_type": "markdown",
   "metadata": {},
   "source": [
    "# Analyze data in the database"
   ]
  },
  {
   "cell_type": "code",
   "execution_count": 1,
   "metadata": {},
   "outputs": [
    {
     "output_type": "stream",
     "name": "stdout",
     "text": "pGIS --> example_database @ localhost\n"
    }
   ],
   "source": [
    "import postgis_helpers as pGIS\n",
    "\n",
    "db = pGIS.PostgreSQL(\"example_database\", verbosity=\"minimal\")"
   ]
  },
  {
   "cell_type": "code",
   "execution_count": 4,
   "metadata": {},
   "outputs": [
    {
     "output_type": "execute_result",
     "data": {
      "text/plain": "(4, 19)"
     },
     "metadata": {},
     "execution_count": 4
    }
   ],
   "source": [
    "# Let's drop any rows with NULL lat / long values\n",
    "\n",
    "df = db.query_as_df(\"select * from csv_imported_via_pandas WHERE lat IS NULL\")\n",
    "\n",
    "df.shape"
   ]
  },
  {
   "cell_type": "code",
   "execution_count": 5,
   "metadata": {},
   "outputs": [],
   "source": [
    "query = \"DELETE FROM csv_imported_via_pandas WHERE lat IS NULL;\"\n",
    "\n",
    "db.execute(query)"
   ]
  },
  {
   "cell_type": "code",
   "execution_count": 6,
   "metadata": {},
   "outputs": [
    {
     "output_type": "stream",
     "name": "stdout",
     "text": "pGIS --> Importing POINT geodataframe to: csv_imported_via_pandas_spatial\npGIS --> Spatialized points from csv_imported_via_pandas into csv_imported_via_pandas_spatial\n"
    }
   ],
   "source": [
    "# Transform the table into points\n",
    "\n",
    "db.table_spatialize_points(\"csv_imported_via_pandas\", x_lon_col=\"long_\", y_lat_col=\"lat\", epsg=4326)"
   ]
  },
  {
   "cell_type": "code",
   "execution_count": 7,
   "metadata": {},
   "outputs": [
    {
     "output_type": "execute_result",
     "data": {
      "text/plain": "{'loaded_via_geopandas': 4326,\n 'loaded_via_shp2pgsql': 4326,\n 'test': 4326,\n 'csv_imported_via_pandas_spatial': 4326}"
     },
     "metadata": {},
     "execution_count": 7
    }
   ],
   "source": [
    "db.all_spatial_tables_as_dict()"
   ]
  }
 ],
 "metadata": {
  "language_info": {
   "codemirror_mode": {
    "name": "ipython",
    "version": 3
   },
   "file_extension": ".py",
   "mimetype": "text/x-python",
   "name": "python",
   "nbconvert_exporter": "python",
   "pygments_lexer": "ipython3",
   "version": "3.8.3-final"
  },
  "orig_nbformat": 2,
  "kernelspec": {
   "name": "python38364bitpostgishelpersconda12ea1a6fc9c04b618d5ef9289b1490f5",
   "display_name": "Python 3.8.3 64-bit ('postgis_helpers': conda)"
  }
 },
 "nbformat": 4,
 "nbformat_minor": 2
}