{
 "cells": [
  {
   "cell_type": "markdown",
   "metadata": {},
   "source": [
    "# postgis-helpers\n",
    "\n",
    "This notebook illustrates basic usage.\n",
    "\n",
    "## The easiest way to use the module:"
   ]
  },
  {
   "cell_type": "code",
   "execution_count": 1,
   "metadata": {},
   "outputs": [],
   "source": [
    "from postgis_helpers import PostgreSQL, get_config\n",
    "from postgis_helpers.septa import SEPTA, spatialize_point_dataframe\n",
    "\n",
    "my_database = \"my_test_database\"\n",
    "\n",
    "db = PostgreSQL(my_database, verbosity=\"minimal\")"
   ]
  },
  {
   "cell_type": "markdown",
   "metadata": {},
   "source": [
    "### Now you can create the database, import data, query, etc."
   ]
  },
  {
   "cell_type": "code",
   "execution_count": 2,
   "metadata": {},
   "outputs": [
    {
     "output_type": "stream",
     "name": "stdout",
     "text": "pGIS | --> Deleting database! my_test_database\npGIS | --> Creating database: my_test_database on localhost\n"
    }
   ],
   "source": [
    "db.delete()\n",
    "db.create()"
   ]
  },
  {
   "cell_type": "markdown",
   "metadata": {},
   "source": [
    "## You can also use the configuration manager to handle multiple SQL clusters\n",
    "\n",
    "This returns a dictionary with hostname as the key and a ``PostgreSQL`` object as the value."
   ]
  },
  {
   "cell_type": "code",
   "execution_count": 2,
   "metadata": {},
   "outputs": [
    {
     "output_type": "stream",
     "name": "stdout",
     "text": "Loading /Users/aaron/.postgis_helpers\nHosts defined in this config file include:\n-> localhost\n-> digitalocean\n"
    }
   ],
   "source": [
    "config = get_config(my_database)\n",
    "db = config[\"digitalocean\"]\n",
    "\n",
    "print(\"Hosts defined in this config file include:\")\n",
    "for host in config:\n",
    "    print(\"->\", host)"
   ]
  },
  {
   "cell_type": "code",
   "execution_count": 7,
   "metadata": {},
   "outputs": [
    {
     "output_type": "stream",
     "name": "stdout",
     "text": "pGIS | --> Creating database: my_test_database on datahound-do-user-7352528-0.a.db.ondigitalocean.com\n"
    }
   ],
   "source": [
    "db.delete()\n",
    "db.create()"
   ]
  },
  {
   "cell_type": "markdown",
   "metadata": {},
   "source": [
    "## Load data"
   ]
  },
  {
   "cell_type": "code",
   "execution_count": 8,
   "metadata": {},
   "outputs": [
    {
     "output_type": "stream",
     "name": "stdout",
     "text": "pGIS | --> Loading geodata into bike_lanes\n"
    }
   ],
   "source": [
    "url = \"http://data.phl.opendata.arcgis.com/datasets/b5f660b9f0f44ced915995b6d49f6385_0.zip\"\n",
    "db.import_geodata(\"bike_lanes\", url, if_exists=\"fail\")"
   ]
  },
  {
   "cell_type": "code",
   "execution_count": 3,
   "metadata": {},
   "outputs": [
    {
     "output_type": "execute_result",
     "data": {
      "text/plain": "['bike_lanes',\n 'geography_columns',\n 'geometry_columns',\n 'raster_columns',\n 'raster_overviews',\n 'spatial_ref_sys']"
     },
     "metadata": {},
     "execution_count": 3
    }
   ],
   "source": [
    "# db.import_csv(\"covid_cases\", \"https://phl.carto.com/api/v2/sql?q=SELECT+*+FROM+covid_cases_by_outcome&filename=covid_cases_by_outcome&format=csv&skipfields=cartodb_id\")\n",
    "\n",
    "db.all_tables_as_list()"
   ]
  },
  {
   "cell_type": "code",
   "execution_count": 4,
   "metadata": {},
   "outputs": [
    {
     "output_type": "execute_result",
     "data": {
      "text/plain": "    f_table_catalog f_table_schema f_table_name f_geometry_column  \\\n0  my_test_database         public   bike_lanes              geom   \n\n   coord_dimension  srid        type  \n0                2  4326  LINESTRING  ",
      "text/html": "<div>\n<style scoped>\n    .dataframe tbody tr th:only-of-type {\n        vertical-align: middle;\n    }\n\n    .dataframe tbody tr th {\n        vertical-align: top;\n    }\n\n    .dataframe thead th {\n        text-align: right;\n    }\n</style>\n<table border=\"1\" class=\"dataframe\">\n  <thead>\n    <tr style=\"text-align: right;\">\n      <th></th>\n      <th>f_table_catalog</th>\n      <th>f_table_schema</th>\n      <th>f_table_name</th>\n      <th>f_geometry_column</th>\n      <th>coord_dimension</th>\n      <th>srid</th>\n      <th>type</th>\n    </tr>\n  </thead>\n  <tbody>\n    <tr>\n      <th>0</th>\n      <td>my_test_database</td>\n      <td>public</td>\n      <td>bike_lanes</td>\n      <td>geom</td>\n      <td>2</td>\n      <td>4326</td>\n      <td>LINESTRING</td>\n    </tr>\n  </tbody>\n</table>\n</div>"
     },
     "metadata": {},
     "execution_count": 4
    }
   ],
   "source": [
    "db.query_as_df(\"SELECT * FROM geometry_columns\")"
   ]
  },
  {
   "cell_type": "code",
   "execution_count": 5,
   "metadata": {},
   "outputs": [],
   "source": [
    "import time\n",
    "\n",
    "for counter in range(10):\n",
    "\n",
    "    df = SEPTA().get_realtime_bus_locations()\n",
    "\n",
    "    gdf = spatialize_point_dataframe(df)\n",
    "\n",
    "    db.import_geodataframe(gdf, \"septa_bus_locations\", if_exists=\"append\")\n",
    "\n",
    "    time.sleep(30)"
   ]
  },
  {
   "cell_type": "code",
   "execution_count": 21,
   "metadata": {},
   "outputs": [
    {
     "output_type": "execute_result",
     "data": {
      "text/plain": "           lat                 lon  ...    route                      scrape_time\n0      39.9526            -75.1652  ...       14 2020-06-10 23:05:53.989692-04:00\n1    40.058224  -75.04563899999999  ...       14 2020-06-10 23:05:53.989692-04:00\n2    40.181534          -74.880798  ...       14 2020-06-10 23:05:53.989692-04:00\n3     40.05616  -75.04727200000001  ...  BLVDDIR 2020-06-10 23:05:53.989692-04:00\n4    40.136955  -74.95315600000001  ...  BLVDDIR 2020-06-10 23:05:53.989692-04:00\n..         ...                 ...  ...      ...                              ...\n255  39.939369          -75.217438  ...       52 2020-06-10 23:05:53.989692-04:00\n256  39.973991  -75.25775899999999  ...       65 2020-06-10 23:05:53.989692-04:00\n257  40.001434          -75.226112  ...       65 2020-06-10 23:05:53.989692-04:00\n258  40.040348          -75.178719  ...       65 2020-06-10 23:05:53.989692-04:00\n259  39.951523          -75.148605  ...       44 2020-06-10 23:05:53.989692-04:00\n\n[260 rows x 14 columns]",
      "text/html": "<div>\n<style scoped>\n    .dataframe tbody tr th:only-of-type {\n        vertical-align: middle;\n    }\n\n    .dataframe tbody tr th {\n        vertical-align: top;\n    }\n\n    .dataframe thead th {\n        text-align: right;\n    }\n</style>\n<table border=\"1\" class=\"dataframe\">\n  <thead>\n    <tr style=\"text-align: right;\">\n      <th></th>\n      <th>lat</th>\n      <th>lon</th>\n      <th>label</th>\n      <th>vehicleid</th>\n      <th>blockid</th>\n      <th>direction</th>\n      <th>destination</th>\n      <th>offset</th>\n      <th>heading</th>\n      <th>late</th>\n      <th>offset_sec</th>\n      <th>trip</th>\n      <th>route</th>\n      <th>scrape_time</th>\n    </tr>\n  </thead>\n  <tbody>\n    <tr>\n      <th>0</th>\n      <td>39.9526</td>\n      <td>-75.1652</td>\n      <td>0</td>\n      <td>0</td>\n      <td>1070</td>\n      <td>NorthBound</td>\n      <td>Neshaminy Mall</td>\n      <td>29</td>\n      <td>0</td>\n      <td>998</td>\n      <td>1747</td>\n      <td>914804</td>\n      <td>14</td>\n      <td>2020-06-10 23:05:53.989692-04:00</td>\n    </tr>\n    <tr>\n      <th>1</th>\n      <td>40.058224</td>\n      <td>-75.04563899999999</td>\n      <td>8654</td>\n      <td>8654</td>\n      <td>1080</td>\n      <td>SouthBound</td>\n      <td>Frankford Transportation Center</td>\n      <td>0</td>\n      <td>195</td>\n      <td>-8</td>\n      <td>27</td>\n      <td>914877</td>\n      <td>14</td>\n      <td>2020-06-10 23:05:53.989692-04:00</td>\n    </tr>\n    <tr>\n      <th>2</th>\n      <td>40.181534</td>\n      <td>-74.880798</td>\n      <td>8666</td>\n      <td>8666</td>\n      <td>1084</td>\n      <td>NorthBound</td>\n      <td>Oxford Valley Mall via Neshaminy Mall</td>\n      <td>0</td>\n      <td>60</td>\n      <td>1</td>\n      <td>36</td>\n      <td>914803</td>\n      <td>14</td>\n      <td>2020-06-10 23:05:53.989692-04:00</td>\n    </tr>\n    <tr>\n      <th>3</th>\n      <td>40.05616</td>\n      <td>-75.04727200000001</td>\n      <td>8684</td>\n      <td>8684</td>\n      <td>1115</td>\n      <td>SouthBound</td>\n      <td>Frankford Transportation Center</td>\n      <td>0</td>\n      <td>210</td>\n      <td>2</td>\n      <td>21</td>\n      <td>945995</td>\n      <td>BLVDDIR</td>\n      <td>2020-06-10 23:05:53.989692-04:00</td>\n    </tr>\n    <tr>\n      <th>4</th>\n      <td>40.136955</td>\n      <td>-74.95315600000001</td>\n      <td>8685</td>\n      <td>8685</td>\n      <td>1116</td>\n      <td>NorthBound</td>\n      <td>Neshaminy Mall</td>\n      <td>0</td>\n      <td>30</td>\n      <td>-1</td>\n      <td>22</td>\n      <td>945961</td>\n      <td>BLVDDIR</td>\n      <td>2020-06-10 23:05:53.989692-04:00</td>\n    </tr>\n    <tr>\n      <th>...</th>\n      <td>...</td>\n      <td>...</td>\n      <td>...</td>\n      <td>...</td>\n      <td>...</td>\n      <td>...</td>\n      <td>...</td>\n      <td>...</td>\n      <td>...</td>\n      <td>...</td>\n      <td>...</td>\n      <td>...</td>\n      <td>...</td>\n      <td>...</td>\n    </tr>\n    <tr>\n      <th>255</th>\n      <td>39.939369</td>\n      <td>-75.217438</td>\n      <td>8427</td>\n      <td>8427</td>\n      <td>9547</td>\n      <td>SouthBound</td>\n      <td>49th-Woodland</td>\n      <td>0</td>\n      <td>45</td>\n      <td>0</td>\n      <td>20</td>\n      <td>932620</td>\n      <td>52</td>\n      <td>2020-06-10 23:05:53.989692-04:00</td>\n    </tr>\n    <tr>\n      <th>256</th>\n      <td>39.973991</td>\n      <td>-75.25775899999999</td>\n      <td>8420</td>\n      <td>8420</td>\n      <td>9614</td>\n      <td>NorthBound</td>\n      <td>Germantown-Chelten</td>\n      <td>0</td>\n      <td>15</td>\n      <td>-1</td>\n      <td>24</td>\n      <td>939917</td>\n      <td>65</td>\n      <td>2020-06-10 23:05:53.989692-04:00</td>\n    </tr>\n    <tr>\n      <th>257</th>\n      <td>40.001434</td>\n      <td>-75.226112</td>\n      <td>8421</td>\n      <td>8421</td>\n      <td>9621</td>\n      <td>SouthBound</td>\n      <td>69th Street Transportation Center</td>\n      <td>0</td>\n      <td>225</td>\n      <td>0</td>\n      <td>29</td>\n      <td>940046</td>\n      <td>65</td>\n      <td>2020-06-10 23:05:53.989692-04:00</td>\n    </tr>\n    <tr>\n      <th>258</th>\n      <td>40.040348</td>\n      <td>-75.178719</td>\n      <td>3026</td>\n      <td>3026</td>\n      <td>9622</td>\n      <td>NorthBound</td>\n      <td>Germantown-Chelten</td>\n      <td>0</td>\n      <td>30</td>\n      <td>-1</td>\n      <td>29</td>\n      <td>939926</td>\n      <td>65</td>\n      <td>2020-06-10 23:05:53.989692-04:00</td>\n    </tr>\n    <tr>\n      <th>259</th>\n      <td>39.951523</td>\n      <td>-75.148605</td>\n      <td>8138</td>\n      <td>8138</td>\n      <td>9669</td>\n      <td>EastBound</td>\n      <td>5th-Market</td>\n      <td>0</td>\n      <td>90</td>\n      <td>-5</td>\n      <td>44</td>\n      <td>928122</td>\n      <td>44</td>\n      <td>2020-06-10 23:05:53.989692-04:00</td>\n    </tr>\n  </tbody>\n</table>\n<p>260 rows × 14 columns</p>\n</div>"
     },
     "metadata": {},
     "execution_count": 21
    }
   ],
   "source": [
    "gdf"
   ]
  }
 ],
 "metadata": {
  "language_info": {
   "codemirror_mode": {
    "name": "ipython",
    "version": 3
   },
   "file_extension": ".py",
   "mimetype": "text/x-python",
   "name": "python",
   "nbconvert_exporter": "python",
   "pygments_lexer": "ipython3",
   "version": "3.8.3-final"
  },
  "orig_nbformat": 2,
  "kernelspec": {
   "name": "python38364bitpostgishelpersconda12ea1a6fc9c04b618d5ef9289b1490f5",
   "display_name": "Python 3.8.3 64-bit ('postgis_helpers': conda)"
  }
 },
 "nbformat": 4,
 "nbformat_minor": 2
}