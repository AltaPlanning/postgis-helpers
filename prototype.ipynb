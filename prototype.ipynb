{
 "cells": [
  {
   "cell_type": "markdown",
   "metadata": {},
   "source": [
    "# postgis-helpers\n",
    "\n",
    "This notebook illustrates basic usage.\n",
    "\n",
    "## The easiest way to use the module:"
   ]
  },
  {
   "cell_type": "code",
   "execution_count": 1,
   "metadata": {},
   "outputs": [],
   "source": [
    "import postgis_helpers as pGIS\n",
    "\n",
    "my_database = \"my_test_database\"\n",
    "\n",
    "db = pGIS.PostgreSQL(my_database, verbosity=\"minimal\")"
   ]
  },
  {
   "cell_type": "markdown",
   "metadata": {},
   "source": [
    "### Now you can create the database, import data, query, etc."
   ]
  },
  {
   "cell_type": "code",
   "execution_count": 2,
   "metadata": {},
   "outputs": [
    {
     "output_type": "stream",
     "name": "stdout",
     "text": "pGIS |--> Deleting database! my_test_database\npGIS |--> Creating database: my_test_database on localhost\n"
    }
   ],
   "source": [
    "db.delete()\n",
    "db.create()"
   ]
  },
  {
   "cell_type": "markdown",
   "metadata": {},
   "source": [
    "## You can also use the configuration manager to handle multiple SQL clusters\n",
    "\n",
    "This returns a dictionary with hostname as the key and a ``PostgreSQL`` object as the value."
   ]
  },
  {
   "cell_type": "code",
   "execution_count": 3,
   "metadata": {},
   "outputs": [
    {
     "output_type": "stream",
     "name": "stdout",
     "text": "Loading /Users/aaron/.postgis_helpers\nHosts defined in this config file include:\n-> localhost\n-> digitalocean\n"
    }
   ],
   "source": [
    "config = pGIS.get_config(my_database)\n",
    "db = config[\"localhost\"]\n",
    "\n",
    "print(\"Hosts defined in this config file include:\")\n",
    "for host in config:\n",
    "    print(\"->\", host)"
   ]
  },
  {
   "cell_type": "code",
   "execution_count": 4,
   "metadata": {},
   "outputs": [
    {
     "output_type": "stream",
     "name": "stdout",
     "text": "pGIS |--> Deleting database! my_test_database\npGIS |--> Creating database: my_test_database on localhost\n"
    }
   ],
   "source": [
    "db.delete()\n",
    "db.create()"
   ]
  },
  {
   "cell_type": "markdown",
   "metadata": {},
   "source": [
    "## Load data"
   ]
  },
  {
   "cell_type": "code",
   "execution_count": 14,
   "metadata": {},
   "outputs": [
    {
     "output_type": "stream",
     "name": "stdout",
     "text": "pGIS |--> Loading geodata into bike_lanes\n"
    }
   ],
   "source": [
    "url = \"http://data.phl.opendata.arcgis.com/datasets/b5f660b9f0f44ced915995b6d49f6385_0.zip\"\n",
    "db.import_geodata(\"bike_lanes\", url)"
   ]
  },
  {
   "cell_type": "code",
   "execution_count": 7,
   "metadata": {},
   "outputs": [
    {
     "output_type": "stream",
     "name": "stdout",
     "text": "pGIS |--> Imported dataframe to covid_cases\n"
    },
    {
     "output_type": "execute_result",
     "data": {
      "text/plain": "['geography_columns',\n 'geometry_columns',\n 'spatial_ref_sys',\n 'bike_lanes',\n 'covid_cases']"
     },
     "metadata": {},
     "execution_count": 7
    }
   ],
   "source": [
    "db.import_csv(\"covid_cases\", \"https://phl.carto.com/api/v2/sql?q=SELECT+*+FROM+covid_cases_by_outcome&filename=covid_cases_by_outcome&format=csv&skipfields=cartodb_id\")\n",
    "\n",
    "db.all_tables_as_list()"
   ]
  },
  {
   "cell_type": "code",
   "execution_count": 8,
   "metadata": {},
   "outputs": [
    {
     "output_type": "execute_result",
     "data": {
      "text/plain": "   index the_geom the_geom_webmercator test_result covid_outcome  count  \\\n0      0     None                 None    positive          died   1433   \n1      1     None                 None    negative      negative  87607   \n2      2     None                 None    positive      positive  22518   \n\n         etl_timestamp  \n0  2020-06-10 17:20:02  \n1  2020-06-10 17:20:02  \n2  2020-06-10 17:20:02  ",
      "text/html": "<div>\n<style scoped>\n    .dataframe tbody tr th:only-of-type {\n        vertical-align: middle;\n    }\n\n    .dataframe tbody tr th {\n        vertical-align: top;\n    }\n\n    .dataframe thead th {\n        text-align: right;\n    }\n</style>\n<table border=\"1\" class=\"dataframe\">\n  <thead>\n    <tr style=\"text-align: right;\">\n      <th></th>\n      <th>index</th>\n      <th>the_geom</th>\n      <th>the_geom_webmercator</th>\n      <th>test_result</th>\n      <th>covid_outcome</th>\n      <th>count</th>\n      <th>etl_timestamp</th>\n    </tr>\n  </thead>\n  <tbody>\n    <tr>\n      <th>0</th>\n      <td>0</td>\n      <td>None</td>\n      <td>None</td>\n      <td>positive</td>\n      <td>died</td>\n      <td>1433</td>\n      <td>2020-06-10 17:20:02</td>\n    </tr>\n    <tr>\n      <th>1</th>\n      <td>1</td>\n      <td>None</td>\n      <td>None</td>\n      <td>negative</td>\n      <td>negative</td>\n      <td>87607</td>\n      <td>2020-06-10 17:20:02</td>\n    </tr>\n    <tr>\n      <th>2</th>\n      <td>2</td>\n      <td>None</td>\n      <td>None</td>\n      <td>positive</td>\n      <td>positive</td>\n      <td>22518</td>\n      <td>2020-06-10 17:20:02</td>\n    </tr>\n  </tbody>\n</table>\n</div>"
     },
     "metadata": {},
     "execution_count": 8
    }
   ],
   "source": [
    "db.query_as_df(\"SELECT * FROM covid_cases\")"
   ]
  }
 ],
 "metadata": {
  "language_info": {
   "codemirror_mode": {
    "name": "ipython",
    "version": 3
   },
   "file_extension": ".py",
   "mimetype": "text/x-python",
   "name": "python",
   "nbconvert_exporter": "python",
   "pygments_lexer": "ipython3",
   "version": "3.8.3-final"
  },
  "orig_nbformat": 2,
  "kernelspec": {
   "name": "python38364bitpostgishelpersconda12ea1a6fc9c04b618d5ef9289b1490f5",
   "display_name": "Python 3.8.3 64-bit ('postgis_helpers': conda)"
  }
 },
 "nbformat": 4,
 "nbformat_minor": 2
}