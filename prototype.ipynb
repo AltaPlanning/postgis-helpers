{
 "cells": [
  {
   "cell_type": "code",
   "execution_count": 1,
   "metadata": {},
   "outputs": [],
   "source": [
    "%load_ext autoreload\n",
    "%autoreload 2"
   ]
  },
  {
   "cell_type": "code",
   "execution_count": 2,
   "metadata": {},
   "outputs": [],
   "source": [
    "from postgis_helpers import *"
   ]
  },
  {
   "cell_type": "code",
   "execution_count": 4,
   "metadata": {},
   "outputs": [
    {
     "output_type": "stream",
     "name": "stdout",
     "text": "pGIS \\\\\\ Created an object for test_postgis @ localhost\n"
    },
    {
     "output_type": "error",
     "ename": "TypeError",
     "evalue": "load_csv() missing 1 required positional argument: 'table_name'",
     "traceback": [
      "\u001b[0;31m---------------------------------------------------------------------------\u001b[0m",
      "\u001b[0;31mTypeError\u001b[0m                                 Traceback (most recent call last)",
      "\u001b[0;32m<ipython-input-4-61fc031e247f>\u001b[0m in \u001b[0;36m<module>\u001b[0;34m\u001b[0m\n\u001b[1;32m      6\u001b[0m \u001b[0;34m\u001b[0m\u001b[0m\n\u001b[1;32m      7\u001b[0m \u001b[0;34m\u001b[0m\u001b[0m\n\u001b[0;32m----> 8\u001b[0;31m \u001b[0mpg\u001b[0m\u001b[0;34m.\u001b[0m\u001b[0mload_csv\u001b[0m\u001b[0;34m(\u001b[0m\u001b[0;34m\"data/operating_budget_fy_2019_proposed.csv\"\u001b[0m\u001b[0;34m)\u001b[0m\u001b[0;34m\u001b[0m\u001b[0;34m\u001b[0m\u001b[0m\n\u001b[0m",
      "\u001b[0;31mTypeError\u001b[0m: load_csv() missing 1 required positional argument: 'table_name'"
     ]
    }
   ],
   "source": [
    "pg = PostgreSQL(\"test_postgis\")\n",
    "\n",
    "# pg.delete()\n",
    "\n",
    "# pg.create()\n",
    "\n",
    "\n",
    "pg.load_csv(\"data/operating_budget_fy_2019_proposed.csv\")"
   ]
  }
 ],
 "metadata": {
  "language_info": {
   "codemirror_mode": {
    "name": "ipython",
    "version": 3
   },
   "file_extension": ".py",
   "mimetype": "text/x-python",
   "name": "python",
   "nbconvert_exporter": "python",
   "pygments_lexer": "ipython3",
   "version": "3.8.3-final"
  },
  "orig_nbformat": 2,
  "kernelspec": {
   "name": "python38364bitpostgishelpersconda12ea1a6fc9c04b618d5ef9289b1490f5",
   "display_name": "Python 3.8.3 64-bit ('postgis_helpers': conda)"
  }
 },
 "nbformat": 4,
 "nbformat_minor": 2
}